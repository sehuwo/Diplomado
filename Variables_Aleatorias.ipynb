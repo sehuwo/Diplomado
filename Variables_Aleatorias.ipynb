{
  "nbformat": 4,
  "nbformat_minor": 0,
  "metadata": {
    "colab": {
      "provenance": [],
      "authorship_tag": "ABX9TyNNa5+H2/B+zIbRn9m6/2K5",
      "include_colab_link": true
    },
    "kernelspec": {
      "name": "python3",
      "display_name": "Python 3"
    },
    "language_info": {
      "name": "python"
    }
  },
  "cells": [
    {
      "cell_type": "markdown",
      "metadata": {
        "id": "view-in-github",
        "colab_type": "text"
      },
      "source": [
        "<a href=\"https://colab.research.google.com/github/sehuwo/Diplomado/blob/main/Variables_Aleatorias.ipynb\" target=\"_parent\"><img src=\"https://colab.research.google.com/assets/colab-badge.svg\" alt=\"Open In Colab\"/></a>"
      ]
    },
    {
      "cell_type": "code",
      "execution_count": 4,
      "metadata": {
        "colab": {
          "base_uri": "https://localhost:8080/"
        },
        "id": "IRg4Y0-GLzC1",
        "outputId": "0f97fb73-3739-40ad-8ebf-4f0e1e9b5dd6"
      },
      "outputs": [
        {
          "output_type": "execute_result",
          "data": {
            "text/plain": [
              "(0.3233235838169366, 0.37392942900133747)"
            ]
          },
          "metadata": {},
          "execution_count": 4
        }
      ],
      "source": [
        "import numpy as np\n",
        "from scipy.stats import poisson\n",
        "\n",
        "#Variable de poisson\n",
        "\n",
        "def cdf(lamda):\n",
        "  first=1-poisson.cdf(2, lamda)\n",
        "  second=(1-poisson.cdf(2, lamda))/(1-poisson.pmf(0, lamda))\n",
        "  return first, second\n",
        "\n",
        "cdf(2)"
      ]
    },
    {
      "cell_type": "code",
      "source": [
        "import numpy as np\n",
        "\n",
        "#Variable geométrica\n",
        "\n",
        "def geo(p):\n",
        "  third=(1-p)**(4-1)*(p)\n",
        "  return third\n",
        "\n",
        "geo(0.7)"
      ],
      "metadata": {
        "colab": {
          "base_uri": "https://localhost:8080/"
        },
        "id": "_PJGzkEKQ6-N",
        "outputId": "eadf03b9-eec9-494e-865c-e717ecdcdf4a"
      },
      "execution_count": 8,
      "outputs": [
        {
          "output_type": "execute_result",
          "data": {
            "text/plain": [
              "0.018900000000000007"
            ]
          },
          "metadata": {},
          "execution_count": 8
        }
      ]
    },
    {
      "cell_type": "code",
      "source": [
        "import math\n",
        "\n",
        "#Variable binomial\n",
        "\n",
        "def bi(n,x,p):\n",
        "  comb=(math.factorial(n))/(math.factorial(x)*math.factorial(n-x)) #Calculo de combinaciones\n",
        "  prob=comb*(p**x)*((1-p)**(n-x)) #Calculo de 9 exitos en 11 experimentos\n",
        "  res=prob*0.7 #Calculo de exito en el 12 experimento\n",
        "  return res\n",
        "\n",
        "bi(11,9,0.7)\n"
      ],
      "metadata": {
        "colab": {
          "base_uri": "https://localhost:8080/"
        },
        "id": "RKQ5o_3dbKHf",
        "outputId": "39ba32b2-1c79-4772-d63a-98b07ab5f5c2"
      },
      "execution_count": 13,
      "outputs": [
        {
          "output_type": "execute_result",
          "data": {
            "text/plain": [
              "0.13982524825499995"
            ]
          },
          "metadata": {},
          "execution_count": 13
        }
      ]
    },
    {
      "cell_type": "code",
      "source": [],
      "metadata": {
        "id": "Am-r4Y-nc1fV"
      },
      "execution_count": null,
      "outputs": []
    },
    {
      "cell_type": "markdown",
      "source": [
        "\n",
        "Problema de la caja de cerillas de Banach\n",
        "\n",
        "Un fumador tiene dos cajas de cerillas, una en cada bolsillo. Cada vez que quiere encender un cigarrillo, elige una de las cajas al azar y saca una cerilla, sin saber cuántas quedan en cada caja. Queremos saber cuál es la probabilidad de que, al sacar una cerilla de una caja, se dé cuenta de que está vacía por primera vez.\n",
        "\n",
        "Solución:\n",
        "\n",
        "Supongamos que cada caja empieza con $n$ cerillas. El fumador solo se da cuenta de que una caja está vacía cuando ha sacado la última cerilla de la otra caja, es decir, cuando ha sacado exactamente $n$ cerillas de una caja y $n-1$ de la otra.\n",
        "\n",
        "La probabilidad de que esto ocurra es la probabilidad de que, tras haber sacado $2n-1$ cerillas en total, exactamente $n$ de ellas hayan venido de una caja específica. Esta probabilidad es:\n",
        "\n",
        "$$\n",
        "P = \\frac{1}{2n-1}\n",
        "$$"
      ],
      "metadata": {
        "id": "FZkcKprwesb_"
      }
    },
    {
      "cell_type": "code",
      "source": [
        "import math\n",
        "\n",
        "def po(p):\n",
        "  third=(1-p)**(3-1)*(p)\n",
        "  return third\n",
        "\n",
        "def pozo(n,x,p):\n",
        "  comb=(math.factorial(n))/(math.factorial(x)*math.factorial(n-x)) #Calculo de combinaciones\n",
        "  prob=comb*(p**x)*((1-p)**(n-x)) #Calculo de 2 exitos en 6 experimentos\n",
        "  res=prob*p #Calculo de exito en el 7 experimento\n",
        "  return res\n",
        "\n",
        "\n",
        "print(po(0.2))\n",
        "print(pozo(6,2,0.2))"
      ],
      "metadata": {
        "colab": {
          "base_uri": "https://localhost:8080/"
        },
        "id": "VjdZNmscgEcZ",
        "outputId": "0ddf9143-f9c5-4810-e9e2-98537b57e239"
      },
      "execution_count": 17,
      "outputs": [
        {
          "output_type": "stream",
          "name": "stdout",
          "text": [
            "0.12800000000000003\n",
            "0.04915200000000002\n"
          ]
        }
      ]
    },
    {
      "cell_type": "code",
      "source": [
        "# Media y varianza para obtener tres pozos productores\n",
        "k = 3\n",
        "p = 0.2\n",
        "# Media\n",
        "media = k / p\n",
        "print(f'Media del número de pozos perforados: {media:.2f}')\n",
        "\n",
        "# Varianza\n",
        "varianza = k * (1 - p) / p**2\n",
        "print(f'Varianza del número de pozos perforados: {varianza:.2f}')"
      ],
      "metadata": {
        "colab": {
          "base_uri": "https://localhost:8080/"
        },
        "id": "LtvSsSFonNZm",
        "outputId": "da6880b5-8aba-488c-af8e-f75f4a12ed55"
      },
      "execution_count": 19,
      "outputs": [
        {
          "output_type": "stream",
          "name": "stdout",
          "text": [
            "Media del número de pozos perforados: 15.00\n",
            "Varianza del número de pozos perforados: 60.00\n"
          ]
        }
      ]
    }
  ]
}
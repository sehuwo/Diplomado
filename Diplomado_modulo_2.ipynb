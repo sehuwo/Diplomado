{
  "nbformat": 4,
  "nbformat_minor": 0,
  "metadata": {
    "colab": {
      "provenance": [],
      "include_colab_link": true
    },
    "kernelspec": {
      "name": "python3",
      "display_name": "Python 3"
    },
    "language_info": {
      "name": "python"
    }
  },
  "cells": [
    {
      "cell_type": "markdown",
      "metadata": {
        "id": "view-in-github",
        "colab_type": "text"
      },
      "source": [
        "<a href=\"https://colab.research.google.com/github/sehuwo/Diplomado/blob/main/Diplomado_modulo_2.ipynb\" target=\"_parent\"><img src=\"https://colab.research.google.com/assets/colab-badge.svg\" alt=\"Open In Colab\"/></a>"
      ]
    },
    {
      "cell_type": "code",
      "execution_count": null,
      "metadata": {
        "colab": {
          "base_uri": "https://localhost:8080/"
        },
        "id": "D5URAxlzpcky",
        "outputId": "7c05eb61-85a9-4d7e-f43c-94222ba01d38"
      },
      "outputs": [
        {
          "output_type": "stream",
          "name": "stdout",
          "text": [
            "¿Cuantas veces se lanzará la moneda? 3\n",
            "¿Al menos cuantos soles busca? 2\n",
            "([('A', 'S', 'S'), ('S', 'A', 'S'), ('S', 'S', 'A'), ('S', 'S', 'S')], 0.5)\n"
          ]
        }
      ],
      "source": [
        "import itertools as it\n",
        "\n",
        "def soles(n,s):\n",
        "  Omega = list(it.product(\"AS\", repeat=n))  #n es el número de lanzamientos\n",
        "  res = [om for om in Omega if om.count('S') >= s] #s es el número de soles que se buscan en mayor o igual\n",
        "  p = len(res) / len(Omega)\n",
        "  return res, p\n",
        "\n",
        "n = int(input(\"¿Cuantas veces se lanzará la moneda? \"))\n",
        "s = int(input(\"¿Al menos cuantos soles busca? \"))\n",
        "print(soles(n,s))\n"
      ]
    },
    {
      "cell_type": "markdown",
      "source": [
        "La diferencia de las caras es mayor que 1"
      ],
      "metadata": {
        "id": "sDdbWTchHHik"
      }
    },
    {
      "cell_type": "code",
      "source": [
        "import pandas as pd\n",
        "from itertools import product\n",
        "from fractions import Fraction\n",
        "from collections import defaultdict\n",
        "\n",
        "def P(A, Omega):\n",
        "  P = Fraction(len(A),len(Omega))\n",
        "  return P\n",
        "\n",
        "def dif(n):\n",
        "  L = [i for i in range(1,7)]\n",
        "  Omega = set(product(L, repeat=n))\n",
        "  S = {(i,j): i-j for i,j in Omega}\n",
        "  dS = defaultdict(set)\n",
        "  for i,j in S.items():\n",
        "    if j > 1:\n",
        "      dS[j].add(i)\n",
        "  leyS = {k : P(A,Omega) for k,A in dS.items() }\n",
        "  leyS = pd.Series(leyS)\n",
        "  leyS = leyS.sort_index()\n",
        "  return leyS\n",
        "\n",
        "print(dif(2))"
      ],
      "metadata": {
        "colab": {
          "base_uri": "https://localhost:8080/"
        },
        "id": "L5lnVzmrHKnN",
        "outputId": "b27ee82a-be3d-482b-c298-46456c5ca2bd"
      },
      "execution_count": 11,
      "outputs": [
        {
          "output_type": "stream",
          "name": "stdout",
          "text": [
            "2     1/9\n",
            "3    1/12\n",
            "4    1/18\n",
            "5    1/36\n",
            "dtype: object\n"
          ]
        }
      ]
    },
    {
      "cell_type": "markdown",
      "source": [
        "La suma de las caras sea par\n"
      ],
      "metadata": {
        "id": "jFlQx0T1RI9k"
      }
    },
    {
      "cell_type": "code",
      "source": [
        "import pandas as pd\n",
        "from itertools import product\n",
        "from fractions import Fraction\n",
        "from collections import defaultdict\n",
        "\n",
        "def P(A, Omega):\n",
        "  P = Fraction(len(A),len(Omega))\n",
        "  return P\n",
        "\n",
        "def par(n):\n",
        "  L = [i for i in range(1,7)]\n",
        "  Omega = set(product(L, repeat=n))\n",
        "  S = {(i,j): i+j for i,j in Omega}\n",
        "  dS = defaultdict(set)\n",
        "  for i,j in S.items():\n",
        "    if j % 2 == 0:\n",
        "      dS[j].add(i)\n",
        "  leyS = {k : P(A,Omega) for k,A in dS.items() }\n",
        "  leyS = pd.Series(leyS)\n",
        "  leyS = leyS.sort_index()\n",
        "  return leyS\n",
        "\n",
        "print(par(2))"
      ],
      "metadata": {
        "id": "LpH9CyYLRIyp",
        "outputId": "158de579-53f3-44f7-f24e-f02a379ca45c",
        "colab": {
          "base_uri": "https://localhost:8080/"
        }
      },
      "execution_count": 15,
      "outputs": [
        {
          "output_type": "stream",
          "name": "stdout",
          "text": [
            "2     1/36\n",
            "4     1/12\n",
            "6     5/36\n",
            "8     5/36\n",
            "10    1/12\n",
            "12    1/36\n",
            "dtype: object\n"
          ]
        }
      ]
    },
    {
      "cell_type": "markdown",
      "source": [
        "Verificación"
      ],
      "metadata": {
        "id": "Lx5MzftdUn-d"
      }
    },
    {
      "cell_type": "code",
      "source": [
        "import pandas as pd\n",
        "from itertools import product\n",
        "from fractions import Fraction\n",
        "from collections import defaultdict\n",
        "\n",
        "def P(A, Omega):\n",
        "  P = Fraction(len(A),len(Omega))\n",
        "  return P\n",
        "\n",
        "def dif(n):\n",
        "  L = [i for i in range(1,7)]\n",
        "  Omega = set(product(L, repeat=n))\n",
        "  S = {(i,j): i-j for i,j in Omega}\n",
        "  dS = defaultdict(set)\n",
        "  for i,j in S.items():\n",
        "    dS[j].add(i)\n",
        "  leyS = {k : P(A,Omega) for k,A in dS.items() }\n",
        "  sum = 0\n",
        "  for i,j in leyS.items():\n",
        "    sum = sum + j\n",
        "  leyS = pd.Series(leyS)\n",
        "  leyS = leyS.sort_index()\n",
        "  return sum\n",
        "\n",
        "def par(n):\n",
        "  L = [i for i in range(1,7)]\n",
        "  Omega = set(product(L, repeat=n))\n",
        "  S = {(i,j): i+j for i,j in Omega}\n",
        "  dS = defaultdict(set)\n",
        "  for i,j in S.items():\n",
        "    dS[j].add(i)\n",
        "  leyS = {k : P(A,Omega) for k,A in dS.items() }\n",
        "  sum = 0\n",
        "  for i,j in leyS.items():\n",
        "    sum = sum + j\n",
        "  leyS = pd.Series(leyS)\n",
        "  leyS = leyS.sort_index()\n",
        "  return sum\n",
        "\n",
        "print(\"La suma de las probabilidades de los eventos para la diferencia de las caras es mayor que uno es \", par(2))\n",
        "print(\"La suma de las probabilidades de los eventos para la suma de las caras sea par es \", dif(2))"
      ],
      "metadata": {
        "id": "C4IR_gLcUqni",
        "outputId": "a580bdd5-662d-4d92-f70b-c0de8cf82d47",
        "colab": {
          "base_uri": "https://localhost:8080/"
        }
      },
      "execution_count": 25,
      "outputs": [
        {
          "output_type": "stream",
          "name": "stdout",
          "text": [
            "La suma de las probabilidades de los eventos para la diferencia de las caras es mayor que uno es  1\n",
            "La suma de las probabilidades de los eventos para la suma de las caras sea par es  1\n"
          ]
        }
      ]
    }
  ]
}